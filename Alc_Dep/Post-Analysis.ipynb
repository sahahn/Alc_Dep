{
 "cells": [
  {
   "cell_type": "code",
   "execution_count": 1,
   "metadata": {},
   "outputs": [],
   "source": [
    "import pandas as pd\n",
    "import loaders\n",
    "import ML\n",
    "import numpy as np\n",
    "import matplotlib.pyplot as plt\n",
    "from itertools import cycle\n",
    "from sklearn.metrics import roc_curve, auc\n",
    "from scipy import interp\n",
    "from sklearn.metrics import precision_recall_curve\n",
    "import matplotlib.pyplot as plt\n",
    "from inspect import signature\n",
    "from sklearn.metrics import average_precision_score\n",
    "import shap"
   ]
  },
  {
   "cell_type": "code",
   "execution_count": 3,
   "metadata": {},
   "outputs": [],
   "source": [
    "def permutation_test_between_clfs(y_test, pred_proba_1, pred_proba_2, nsamples=1000):\n",
    "    auc_differences = []\n",
    "    auc1 = roc_auc_score(y_test.ravel(), pred_proba_1.ravel())\n",
    "    auc2 = roc_auc_score(y_test.ravel(), pred_proba_2.ravel())\n",
    "    observed_difference = auc1 - auc2\n",
    "    for _ in range(nsamples):\n",
    "        mask = np.random.randint(2, size=len(pred_proba_1.ravel()))\n",
    "        p1 = np.where(mask, pred_proba_1.ravel(), pred_proba_2.ravel())\n",
    "        p2 = np.where(mask, pred_proba_2.ravel(), pred_proba_1.ravel())\n",
    "        auc1 = roc_auc_score(y_test.ravel(), p1)\n",
    "        auc2 = roc_auc_score(y_test.ravel(), p2)\n",
    "        auc_differences(auc1 - auc2)\n",
    "    return observed_difference, np.mean(auc_differences >= observed_difference)"
   ]
  },
  {
   "cell_type": "code",
   "execution_count": 3,
   "metadata": {},
   "outputs": [],
   "source": [
    "best_feats = ['L_superiorfrontal_thickavg', 'Lput', 'R_lateralorbitofrontal_thickavg','R_transversetemporal_surfavg']"
   ]
  },
  {
   "cell_type": "code",
   "execution_count": 4,
   "metadata": {},
   "outputs": [
    {
     "name": "stderr",
     "output_type": "stream",
     "text": [
      "/home/sage/anaconda3/lib/python3.6/site-packages/pandas/core/generic.py:5208: SettingWithCopyWarning: \n",
      "A value is trying to be set on a copy of a slice from a DataFrame.\n",
      "Try using .loc[row_indexer,col_indexer] = value instead\n",
      "\n",
      "See the caveats in the documentation: http://pandas.pydata.org/pandas-docs/stable/user_guide/indexing.html#returning-a-view-versus-a-copy\n",
      "  self[name] = value\n"
     ]
    }
   ],
   "source": [
    "e,g,h = loaders.load_it_all(age=False, sex=False, split_enigma=False, i_keys=best_feats)\n",
    "e2,g2,h2 = loaders.load_it_all(age=True, sex=True, split_enigma=False, i_keys=None, scale=False)"
   ]
  },
  {
   "cell_type": "code",
   "execution_count": 10,
   "metadata": {},
   "outputs": [],
   "source": [
    "enigma_ages = np.array([x[0] for x in e2[0]])\n",
    "enigma_sexes = np.array([x[-5] for x in e2[0]])\n",
    "enigma_sites = np.array([x[-4] for x in e2[0]])\n",
    "enigma_truth = e2[1]\n",
    "\n",
    "ages = np.array([x[0] for x in g2[0]])\n",
    "sexes = np.array([x[-5] for x in g2[0]])\n",
    "sites = np.array([x[-4] for x in g2[0]])\n",
    "truth = g2[1]"
   ]
  },
  {
   "cell_type": "code",
   "execution_count": 11,
   "metadata": {},
   "outputs": [
    {
     "data": {
      "text/plain": [
       "(554, 0.5770833333333333, 960)"
      ]
     },
     "execution_count": 11,
     "metadata": {},
     "output_type": "execute_result"
    }
   ],
   "source": [
    "a = enigma_sexes[enigma_truth==0]\n",
    "sum(a==0), sum(a==0)/len(a), len(a)"
   ]
  },
  {
   "cell_type": "code",
   "execution_count": 12,
   "metadata": {},
   "outputs": [
    {
     "data": {
      "text/plain": [
       "28.540073560319463"
      ]
     },
     "execution_count": 12,
     "metadata": {},
     "output_type": "execute_result"
    }
   ],
   "source": [
    "np.mean(enigma_ages[enigma_truth==0])"
   ]
  },
  {
   "cell_type": "code",
   "execution_count": 13,
   "metadata": {},
   "outputs": [
    {
     "data": {
      "text/plain": [
       "33.362420820911304"
      ]
     },
     "execution_count": 13,
     "metadata": {},
     "output_type": "execute_result"
    }
   ],
   "source": [
    "np.mean(enigma_ages[enigma_truth==1])"
   ]
  },
  {
   "cell_type": "code",
   "execution_count": 14,
   "metadata": {},
   "outputs": [
    {
     "data": {
      "text/plain": [
       "(1009.0, 0.610774818401937)"
      ]
     },
     "execution_count": 14,
     "metadata": {},
     "output_type": "execute_result"
    }
   ],
   "source": [
    "(len(enigma_sexes) - np.sum(enigma_sexes)), (len(enigma_sexes) - np.sum(enigma_sexes)) / len(enigma_sexes)"
   ]
  },
  {
   "cell_type": "code",
   "execution_count": 15,
   "metadata": {},
   "outputs": [
    {
     "data": {
      "text/plain": [
       "(30.560088272383354, 10.016346965338688)"
      ]
     },
     "execution_count": 15,
     "metadata": {},
     "output_type": "execute_result"
    }
   ],
   "source": [
    "np.mean(enigma_ages), np.std(enigma_ages)"
   ]
  },
  {
   "cell_type": "code",
   "execution_count": 16,
   "metadata": {},
   "outputs": [
    {
     "data": {
      "text/plain": [
       "(43.25130890052356, 11.741530794883532)"
      ]
     },
     "execution_count": 16,
     "metadata": {},
     "output_type": "execute_result"
    }
   ],
   "source": [
    "np.mean(ages), np.std(ages)"
   ]
  },
  {
   "cell_type": "code",
   "execution_count": 17,
   "metadata": {},
   "outputs": [
    {
     "data": {
      "text/plain": [
       "array([ 1.,  2.,  3.,  5.,  6.,  7.,  8.,  9., 14., 15., 16., 17., 19.,\n",
       "       20., 22., 23., 24., 25., 27., 28., 29., 30., 31., 32.])"
      ]
     },
     "execution_count": 17,
     "metadata": {},
     "output_type": "execute_result"
    }
   ],
   "source": [
    "np.unique(enigma_sites)"
   ]
  },
  {
   "cell_type": "code",
   "execution_count": 18,
   "metadata": {},
   "outputs": [
    {
     "data": {
      "text/plain": [
       "1652"
      ]
     },
     "execution_count": 18,
     "metadata": {},
     "output_type": "execute_result"
    }
   ],
   "source": [
    "len(enigma_sexes)"
   ]
  },
  {
   "cell_type": "code",
   "execution_count": 19,
   "metadata": {},
   "outputs": [
    {
     "data": {
      "text/plain": [
       "array([1, 1, 1, ..., 0, 0, 0])"
      ]
     },
     "execution_count": 19,
     "metadata": {},
     "output_type": "execute_result"
    }
   ],
   "source": [
    "e2[1]"
   ]
  },
  {
   "cell_type": "code",
   "execution_count": 20,
   "metadata": {},
   "outputs": [
    {
     "data": {
      "text/plain": [
       "423"
      ]
     },
     "execution_count": 20,
     "metadata": {},
     "output_type": "execute_result"
    }
   ],
   "source": [
    "sum(e2[1][enigma_sexes==0])\n",
    "#len(e2[1][enigma_sexes==0])"
   ]
  },
  {
   "cell_type": "code",
   "execution_count": 21,
   "metadata": {},
   "outputs": [
    {
     "data": {
      "text/plain": [
       "0.4329580348004094"
      ]
     },
     "execution_count": 21,
     "metadata": {},
     "output_type": "execute_result"
    }
   ],
   "source": [
    "np.sum(e2[1][enigma_sexes==0]) / len(e2[1][enigma_sexes==0])"
   ]
  },
  {
   "cell_type": "code",
   "execution_count": 22,
   "metadata": {},
   "outputs": [
    {
     "data": {
      "text/plain": [
       "0.3436988543371522"
      ]
     },
     "execution_count": 22,
     "metadata": {},
     "output_type": "execute_result"
    }
   ],
   "source": [
    "np.sum(e2[1][enigma_sexes==1]) / len(e2[1][enigma_sexes==1])"
   ]
  },
  {
   "cell_type": "code",
   "execution_count": 23,
   "metadata": {},
   "outputs": [
    {
     "data": {
      "image/png": "[encoded data removed]",
      "text/plain": [
       "<Figure size 432x288 with 1 Axes>"
      ]
     },
     "metadata": {
      "needs_background": "light"
     },
     "output_type": "display_data"
    }
   ],
   "source": [
    "plt.hist(enigma_ages[e2[1]==1], label = 'AUD', alpha=1, bins=30)\n",
    "plt.hist(enigma_ages[e2[1]==0], label = 'Control', alpha=.6, bins=30)\n",
    "plt.legend()\n",
    "plt.xlabel('Age')\n",
    "plt.ylabel('Count')\n",
    "plt.title('Enigma Age Histograms')\n",
    "plt.savefig('Enigma_Age_Distribution.jpg')"
   ]
  },
  {
   "cell_type": "code",
   "execution_count": 13,
   "metadata": {},
   "outputs": [],
   "source": [
    "model = ML.train_model(e[0], e[1], classifier='log', param_comb=3, int_folds=5)\n",
    "    \n",
    "preds = model.predict_proba(g[0])\n",
    "preds = np.array([p[1] for p in preds])\n",
    "\n",
    "r_preds = model.predict_proba(e[0])\n",
    "r_preds = np.array([p[1] for p in r_preds])\n",
    "\n",
    "binary_preds = model.predict(g[0])\n",
    "\n",
    "truth = g[1]\n",
    "r_truth = e[1]"
   ]
  },
  {
   "cell_type": "code",
   "execution_count": 8,
   "metadata": {},
   "outputs": [],
   "source": [
    "from sklearn.metrics import roc_auc_score"
   ]
  },
  {
   "cell_type": "code",
   "execution_count": 10,
   "metadata": {},
   "outputs": [
    {
     "data": {
      "text/plain": [
       "0.7681390759229161"
      ]
     },
     "execution_count": 10,
     "metadata": {},
     "output_type": "execute_result"
    }
   ],
   "source": [
    "model = ML.train_model(e[0], e[1], classifier='log', param_comb=3, int_folds=5)"
   ]
  },
  {
   "cell_type": "code",
   "execution_count": 25,
   "metadata": {},
   "outputs": [],
   "source": [
    "from scipy.stats import mannwhitneyu"
   ]
  },
  {
   "cell_type": "code",
   "execution_count": 49,
   "metadata": {},
   "outputs": [
    {
     "data": {
      "text/plain": [
       "0.5000602473299279"
      ]
     },
     "execution_count": 49,
     "metadata": {},
     "output_type": "execute_result"
    }
   ],
   "source": [
    "def get_score(model, X, y):\n",
    "    \n",
    "    preds = model.predict_proba(X)\n",
    "    preds = np.array([p[1] for p in preds])\n",
    "    score = roc_auc_score(y, preds)\n",
    "    \n",
    "    return score\n",
    "    \n",
    "base_X = g[0]\n",
    "base_y = g[1]\n",
    "\n",
    "base_line = get_score(model, base_X, base_y)\n",
    "other_score = np.mean([get_score(model, base_X, np.random.permutation(base_y)) for i in range(1000000)])\n",
    "other_score"
   ]
  },
  {
   "cell_type": "code",
   "execution_count": 43,
   "metadata": {},
   "outputs": [
    {
     "data": {
      "image/png": "[encoded data removed]",
      "text/plain": [
       "<Figure size 432x288 with 1 Axes>"
      ]
     },
     "metadata": {
      "needs_background": "light"
     },
     "output_type": "display_data"
    }
   ],
   "source": [
    "plt.hist(r_preds, label='Predictions')\n",
    "plt.hist(r_truth, alpha=.3, label='True Distribution')\n",
    "plt.legend()\n",
    "plt.title('Histogram of raw German predictions from model w/ 4 features')\n",
    "plt.savefig('German_Ref_preds.jpg')"
   ]
  },
  {
   "cell_type": "code",
   "execution_count": 26,
   "metadata": {},
   "outputs": [
    {
     "data": {
      "image/png": "[encoded data removed]",
      "text/plain": [
       "<Figure size 432x288 with 1 Axes>"
      ]
     },
     "metadata": {
      "needs_background": "light"
     },
     "output_type": "display_data"
    }
   ],
   "source": [
    "plt.hist(preds, label='Predictions')\n",
    "plt.hist(truth, alpha=.3, label='True Distribution')\n",
    "plt.legend()\n",
    "plt.title('Histogram of raw German predictions from model w/ 4 features')\n",
    "plt.savefig('German_Ref_preds.jpg')"
   ]
  },
  {
   "cell_type": "code",
   "execution_count": 10,
   "metadata": {},
   "outputs": [
    {
     "data": {
      "image/png": "[encoded data removed]",
      "text/plain": [
       "<Figure size 432x288 with 1 Axes>"
      ]
     },
     "metadata": {
      "needs_background": "light"
     },
     "output_type": "display_data"
    }
   ],
   "source": [
    "plt.hist(ages[g2[1]==1], label = 'AUD', alpha=1, bins=30)\n",
    "plt.hist(ages[g2[1]==0], label = 'Control', alpha=.6, bins=30)\n",
    "plt.legend()\n",
    "plt.xlabel('Age')\n",
    "plt.ylabel('Count')\n",
    "plt.title('German Age Histograms')\n",
    "plt.savefig('German_Age_Distribution.jpg')"
   ]
  },
  {
   "cell_type": "code",
   "execution_count": 11,
   "metadata": {},
   "outputs": [
    {
     "data": {
      "image/png": "[encoded data removed]",
      "text/plain": [
       "<Figure size 432x288 with 1 Axes>"
      ]
     },
     "metadata": {
      "needs_background": "light"
     },
     "output_type": "display_data"
    }
   ],
   "source": [
    "plt.hist(ages[binary_preds==1], label = 'AUD', alpha=1, bins=30)\n",
    "plt.hist(ages[binary_preds==0], label = 'Control', alpha=.6, bins=30)\n",
    "plt.legend()\n",
    "plt.xlabel('Age')\n",
    "plt.ylabel('Count')\n",
    "plt.title('Predicted German Age Histogram')\n",
    "plt.savefig('Binary_Predicted_German.jpg')"
   ]
  },
  {
   "cell_type": "code",
   "execution_count": 17,
   "metadata": {},
   "outputs": [],
   "source": [
    "preds_sex0 = preds[sexes == 0.0]\n",
    "truth_sex0 = truth[sexes == 0.0]\n",
    "preds_sex1 = preds[sexes == 1.0]\n",
    "truth_sex1 = truth[sexes == 1.0]\n",
    "\n",
    "preds_younger = preds[ages <= np.median(ages)]\n",
    "truth_younger = truth[ages <= np.median(ages)]\n",
    "preds_older = preds[ages > np.mean(ages)]\n",
    "truth_older = truth[ages > np.mean(ages)]\n",
    "\n",
    "preds_site1 = preds[sites==50]\n",
    "truth_site1 = truth[sites==50]\n",
    "preds_site2 = preds[sites==51]\n",
    "truth_site2 = truth[sites==51]\n",
    "preds_site3 = preds[sites==52]\n",
    "truth_site3 = truth[sites==52]\n",
    "\n",
    "n_all = str(len(preds))\n",
    "n_sex0, n_sex1 = str(len(preds_sex0)), str(len(preds_sex1))\n",
    "n_younger, n_older = str(len(preds_younger)), str(len(preds_older))\n",
    "n_site1, n_site2, n_site3 = str(len(preds_site1)), str(len(preds_site2)), str(len(preds_site3))"
   ]
  },
  {
   "cell_type": "code",
   "execution_count": 18,
   "metadata": {},
   "outputs": [
    {
     "name": "stdout",
     "output_type": "stream",
     "text": [
      "mean age:  43.25130890052356\n"
     ]
    }
   ],
   "source": [
    "print('mean age: ', np.mean(ages))"
   ]
  },
  {
   "cell_type": "code",
   "execution_count": 19,
   "metadata": {},
   "outputs": [],
   "source": [
    "fpr, tpr, _ = roc_curve(truth, preds)\n",
    "roc_auc = auc(fpr, tpr)\n",
    "\n",
    "fpr_sex0, tpr_sex0, _ = roc_curve(truth_sex0, preds_sex0)\n",
    "roc_auc_sex0 = auc(fpr_sex0, tpr_sex0)\n",
    "fpr_sex1, tpr_sex1, _ = roc_curve(truth_sex1, preds_sex1)\n",
    "roc_auc_sex1 = auc(fpr_sex1, tpr_sex1)\n",
    "\n",
    "fpr_younger, tpr_younger, _ = roc_curve(truth_younger, preds_younger)\n",
    "roc_auc_younger = auc(fpr_younger, tpr_younger)\n",
    "fpr_older, tpr_older, _ = roc_curve(truth_older, preds_older)\n",
    "roc_auc_older = auc(fpr_older, tpr_older)\n",
    "\n",
    "fpr_site1, tpr_site1, _ = roc_curve(truth_site1, preds_site1)\n",
    "roc_auc_site1 = auc(fpr_site1, tpr_site1)\n",
    "fpr_site2, tpr_site2, _ = roc_curve(truth_site2, preds_site2)\n",
    "roc_auc_site2 = auc(fpr_site2, tpr_site2)\n",
    "fpr_site3, tpr_site3, _ = roc_curve(truth_site3, preds_site3)\n",
    "roc_auc_site3 = auc(fpr_site3, tpr_site3)"
   ]
  },
  {
   "cell_type": "code",
   "execution_count": null,
   "metadata": {},
   "outputs": [],
   "source": []
  },
  {
   "cell_type": "code",
   "execution_count": 24,
   "metadata": {},
   "outputs": [
    {
     "data": {
      "image/png": "[encoded data removed]",
      "text/plain": [
       "<Figure size 1080x720 with 1 Axes>"
      ]
     },
     "metadata": {
      "needs_background": "light"
     },
     "output_type": "display_data"
    }
   ],
   "source": [
    "#plt.style.use('seaborn-dark')\n",
    "plt.figure(figsize=(15,10))\n",
    "lw = 3\n",
    "\n",
    "plt.plot(fpr, tpr,lw=lw,                 label='n=' + n_all + '  ' + 'AUC = %.3f' % roc_auc)\n",
    "#plt.plot(fpr_sex0, tpr_sex0,lw=lw,       label='Female               (n=' + n_sex0 + ')  ' + 'AUC = %.3f' % roc_auc_sex0)\n",
    "#plt.plot(fpr_sex1, tpr_sex1,lw=lw,       label='Male                   (n=' + n_sex1 + ')  ' + 'AUC = %.3f' % roc_auc_sex1)\n",
    "#plt.plot(fpr_younger, tpr_younger,lw=lw, label='44 and younger  (n=' + n_younger + ')  ' + 'AUC = %.3f' % roc_auc_younger)\n",
    "#plt.plot(fpr_older, tpr_older,lw=lw,     label='45 and older       (n=' + n_older + ')  ' + 'AUC = %.3f' % roc_auc_older)\n",
    "\n",
    "plt.plot([0, 1], [0, 1], color='navy', lw=lw, linestyle='--')\n",
    "plt.xlim([0.0, 1.0])\n",
    "plt.ylim([0.0, 1.05])\n",
    "plt.xlabel('False Positive Rate', fontsize=18)\n",
    "plt.ylabel('True Positive Rate', fontsize=18)\n",
    "plt.title('Alcohol Dependence Classifier ROC Curve on Test Set', fontsize=20)\n",
    "plt.legend(loc=\"lower right\", fontsize=18)\n",
    "plt.savefig('ROC_Curve.pdf', transparent=False, dpi=1000)\n",
    "\n",
    "plt.tick_params(labelsize=12)\n",
    "plt.show()"
   ]
  },
  {
   "cell_type": "code",
   "execution_count": null,
   "metadata": {},
   "outputs": [],
   "source": [
    "plt.style.use('seaborn-dark')\n",
    "plt.figure(figsize=(15,10))\n",
    "lw = 3\n",
    "\n",
    "plt.plot(fpr, tpr,lw=lw,                 label='All  (n=' + n_all + ')  ' + 'AUC = %.3f' % roc_auc)\n",
    "\n",
    "\n",
    "plt.plot([0, 1], [0, 1], color='navy', lw=lw, linestyle='--')\n",
    "plt.xlim([0.0, 1.0])\n",
    "plt.ylim([0.0, 1.05])\n",
    "plt.xlabel('False Positive Rate', fontsize=18)\n",
    "plt.ylabel('True Positive Rate', fontsize=18)\n",
    "plt.title('Alcohol Dependence Classifier ROC Curve on Test Set', fontsize=20)\n",
    "plt.legend(loc=\"lower right\", fontsize=20)\n",
    "plt.savefig('All.jpg', dpi=100)\n",
    "plt.show()"
   ]
  },
  {
   "cell_type": "code",
   "execution_count": null,
   "metadata": {},
   "outputs": [],
   "source": [
    "plt.style.use('seaborn-dark')\n",
    "plt.figure(figsize=(15,10))\n",
    "lw = 3\n",
    "\n",
    "plt.plot(fpr_younger, tpr_younger,lw=lw, label='44 and younger  (n=' + n_younger + ')  ' + 'AUC = %.3f' % roc_auc_younger)\n",
    "plt.plot(fpr_older, tpr_older,lw=lw,     label='45 and older       (n=' + n_older + ')  ' + 'AUC = %.3f' % roc_auc_older)\n",
    "\n",
    "plt.plot([0, 1], [0, 1], color='navy', lw=lw, linestyle='--')\n",
    "plt.xlim([0.0, 1.0])\n",
    "plt.ylim([0.0, 1.05])\n",
    "plt.xlabel('False Positive Rate', fontsize=18)\n",
    "plt.ylabel('True Positive Rate', fontsize=18)\n",
    "plt.title('Age Comparison ROC Curve on Test Set', fontsize=20)\n",
    "plt.legend(loc=\"lower right\", fontsize=18)\n",
    "plt.savefig('Age.jpg', dpi=100)\n",
    "plt.show()"
   ]
  },
  {
   "cell_type": "code",
   "execution_count": null,
   "metadata": {},
   "outputs": [],
   "source": [
    "plt.style.use('seaborn-dark')\n",
    "plt.figure(figsize=(15,10))\n",
    "lw = 3\n",
    "\n",
    "plt.plot(fpr_sex0, tpr_sex0,lw=lw,       label='Male      (n=' + n_sex0 + ')  ' + 'AUC = %.3f' % roc_auc_sex0)\n",
    "plt.plot(fpr_sex1, tpr_sex1,lw=lw,       label='Female  (n=' + n_sex1 + ')  ' + 'AUC = %.3f' % roc_auc_sex1)\n",
    "\n",
    "plt.plot([0, 1], [0, 1], color='navy', lw=lw, linestyle='--')\n",
    "plt.xlim([0.0, 1.0])\n",
    "plt.ylim([0.0, 1.05])\n",
    "plt.xlabel('False Positive Rate', fontsize=18)\n",
    "plt.ylabel('True Positive Rate', fontsize=18)\n",
    "plt.title('Sex Comparison ROC Curve on Test Set', fontsize=20)\n",
    "plt.legend(loc=\"lower right\", fontsize=18)\n",
    "plt.savefig('Sex.jpg', dpi=100)\n",
    "plt.show()"
   ]
  },
  {
   "cell_type": "code",
   "execution_count": null,
   "metadata": {},
   "outputs": [],
   "source": [
    "plt.style.use('seaborn-dark')\n",
    "plt.figure(figsize=(15,10))\n",
    "lw = 3\n",
    "\n",
    "plt.plot(fpr_site1, tpr_site1,lw=lw,       label='Site 1  (n=' + n_site1 + ')  ' + 'AUC = %.3f' % roc_auc_site1)\n",
    "plt.plot(fpr_site2, tpr_site2,lw=lw,       label='Site 2  (n=' + n_site2 + ')  ' + 'AUC = %.3f' % roc_auc_site2)\n",
    "plt.plot(fpr_site3, tpr_site3,lw=lw,       label='Site 3  (n=' + n_site3 + ')  ' + 'AUC = %.3f' % roc_auc_site3)\n",
    "\n",
    "plt.plot([0, 1], [0, 1], color='navy', lw=lw, linestyle='--')\n",
    "plt.xlim([0.0, 1.0])\n",
    "plt.ylim([0.0, 1.05])\n",
    "plt.xlabel('False Positive Rate', fontsize=18)\n",
    "plt.ylabel('True Positive Rate', fontsize=18)\n",
    "plt.title('Site Comparison ROC Curve on Test Set', fontsize=20)\n",
    "plt.legend(loc=\"lower right\", fontsize=18)\n",
    "plt.savefig('Site.jpg', dpi=100)\n",
    "plt.show()"
   ]
  },
  {
   "cell_type": "code",
   "execution_count": null,
   "metadata": {},
   "outputs": [],
   "source": [
    "\n",
    "\n",
    "\n",
    "average_precision = average_precision_score(truth, preds)\n",
    "\n",
    "precision, recall, _ = precision_recall_curve(truth, preds)\n",
    "\n",
    "# In matplotlib < 1.5, plt.fill_between does not have a 'step' argument\n",
    "step_kwargs = ({'step': 'post'}\n",
    "               if 'step' in signature(plt.fill_between).parameters\n",
    "               else {})\n",
    "\n",
    "plt.step(recall, precision, color='b', alpha=0.2,\n",
    "         where='post')\n",
    "plt.fill_between(recall, precision, alpha=0.2, color='b', **step_kwargs)\n",
    "\n",
    "plt.xlabel('Recall')\n",
    "plt.ylabel('Precision')\n",
    "plt.ylim([0.0, 1.05])\n",
    "plt.xlim([0.0, 1.0])\n",
    "plt.title('2-class Precision-Recall curve: AP={0:0.2f}'.format(\n",
    "          average_precision))"
   ]
  },
  {
   "cell_type": "code",
   "execution_count": null,
   "metadata": {},
   "outputs": [],
   "source": [
    "y = [.778, .757, .782, .768, .737, .724, .715, .748, .738, .741]"
   ]
  },
  {
   "cell_type": "code",
   "execution_count": null,
   "metadata": {},
   "outputs": [],
   "source": [
    "x = [1,2,3,4,5,6,7,8,9,10]"
   ]
  },
  {
   "cell_type": "code",
   "execution_count": null,
   "metadata": {},
   "outputs": [],
   "source": [
    "plt.plot(x,y)"
   ]
  },
  {
   "cell_type": "code",
   "execution_count": null,
   "metadata": {},
   "outputs": [],
   "source": []
  }
 ],
 "metadata": {
  "kernelspec": {
   "display_name": "Python 3",
   "language": "python",
   "name": "python3"
  },
  "language_info": {
   "codemirror_mode": {
    "name": "ipython",
    "version": 3
   },
   "file_extension": ".py",
   "mimetype": "text/x-python",
   "name": "python",
   "nbconvert_exporter": "python",
   "pygments_lexer": "ipython3",
   "version": "3.7.4"
  }
 },
 "nbformat": 4,
 "nbformat_minor": 2
}
